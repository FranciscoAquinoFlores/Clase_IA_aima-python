{
 "cells": [
  {
   "cell_type": "markdown",
   "metadata": {},
   "source": [
    "\n",
    "PROBLEMA - Canivales y misioneros\n",
    "\n",
    "ESTADOS (c,m) en el lado inicial\n",
    "\n",
    "ACEPTADOS - (3,3),(3,0), (2,2), (2,3), (2,0), (1,0), (1,1), (1,3), (0,3), (0,0)\n",
    "NO ACEPTADOS - (3,1), (3,2), (2,1), (1,2), (0,1), (0,2)\n",
    "\n",
    "ACCIONES sumar o restar c y m alternadamente al estado actual\n",
    "{(0,1),(0,2),(1,0),(1,1),(2,0)}\n",
    "\n",
    "FUNCION DE TRANSICION\n",
    "f : SxA -> S\n",
    "\n",
    "INICIO (3,3)\n",
    "META (0,0)\n"
   ]
  },
  {
   "cell_type": "code",
   "execution_count": 101,
   "metadata": {},
   "outputs": [],
   "source": [
    "class Estado:\n",
    "\n",
    "    def __init__(self,c,m,i=0):\n",
    "        self.c = c\n",
    "        self.m = m\n",
    "        self.i = i\n",
    "\n",
    "    def setm(self, m):\n",
    "        self.m = m\n",
    "\n",
    "    def setc(self, c):\n",
    "        self.c = c\n",
    "    \n",
    "    def increm(self):\n",
    "        self.i += 1\n",
    "\n",
    "    def getm(self):\n",
    "        return self.m\n",
    "\n",
    "    def getc(self):\n",
    "        return self.c\n",
    "    \n",
    "    def geti(self):\n",
    "        return self.i\n",
    "\n",
    "    def isValid(self):\n",
    "        return (self.c,self.m) not in [(3,1), (3,2), (2,1), (1,2), (0,1), (0,2)]\n",
    "\n",
    "    def __repr__(self):\n",
    "        return 'Canivales: {} Misioneros: {}'.format(self.c,self.m)\n",
    "                                                      \n",
    "    def __eq__(self, other):\n",
    "        return self.c == other.c and self.m == other.m\n",
    "    \n",
    "    def __hash__(self):\n",
    "        return hash((self.c,self.m,self.i))"
   ]
  },
  {
   "cell_type": "code",
   "execution_count": 102,
   "metadata": {},
   "outputs": [],
   "source": [
    "class Problem(object):\n",
    "\n",
    "    \"\"\"The abstract class for a formal problem. You should subclass0\n",
    "    this and implement the methods actions and result, and possibly\n",
    "    __init__, goal_test, and path_cost. Then you will create instances\n",
    "    of your subclass and solve them with the various search functions.\"\"\"\n",
    "\n",
    "    def __init__(self, initial, goal=None):\n",
    "        \"\"\"The constructor specifies the initial state, and possibly a goal\n",
    "        state, if there is a unique goal. Your subclass's constructor can add\n",
    "        other arguments.\"\"\"\n",
    "        self.initial = initial\n",
    "        self.goal = goal\n",
    "\n",
    "    def actions(self, state):\n",
    "        \"\"\"Return the actions that can be executed in the given\n",
    "        state. The result would typically be a list, but if there are\n",
    "        many actions, consider yielding them one at a time in an\n",
    "        iterator, rather than building them all at once.\"\"\"\n",
    "        raise NotImplementedError\n",
    "\n",
    "    def result(self, state, action):\n",
    "        \"\"\"Return the state that results from executing the given\n",
    "        action in the given state. The action must be one of\n",
    "        self.actions(state).\"\"\"\n",
    "        raise NotImplementedError\n",
    "\n",
    "    def goal_test(self, state):\n",
    "        \"\"\"Return True if the state is a goal. The default method compares the\n",
    "        state to self.goal or checks for state in self.goal if it is a\n",
    "        list, as specified in the constructor. Override this method if\n",
    "        checking against a single self.goal is not enough.\"\"\"\n",
    "        if isinstance(self.goal, list):\n",
    "            return is_in(state, self.goal)\n",
    "        else:\n",
    "            return state == self.goal\n",
    "\n",
    "    def path_cost(self, c, state1, action, state2):\n",
    "        \"\"\"Return the cost of a solution path that arrives at state2 from\n",
    "        state1 via action, assuming cost c to get up to state1. If the problem\n",
    "        is such that the path doesn't matter, this function will only look at\n",
    "        state2.  If the path does matter, it will consider c and maybe state1\n",
    "        and action. The default method costs 1 for every step in the path.\"\"\"\n",
    "        return c + 1\n",
    "\n",
    "    def value(self, state):\n",
    "        \"\"\"For optimization problems, each state has a value.  Hill-climbing\n",
    "        and related algorithms try to maximize this value.\"\"\"\n",
    "        raise NotImplementedError"
   ]
  },
  {
   "cell_type": "code",
   "execution_count": 103,
   "metadata": {},
   "outputs": [],
   "source": [
    "class Node:\n",
    "\n",
    "    \"\"\"A node in a search tree. Contains a pointer to the parent (the node\n",
    "    that this is a successor of) and to the actual state for this node. Note\n",
    "    that if a state is arrived at by two paths, then there are two nodes with\n",
    "    the same state.  Also includes the action that got us to this state, and\n",
    "    the total path_cost (also known as g) to reach the node.  Other functions\n",
    "    may add an f and h value; see best_first_graph_search and astar_search for\n",
    "    an explanation of how the f and h values are handled. You will not need to\n",
    "    subclass this class.\"\"\"\n",
    "\n",
    "    def __init__(self, state, parent=None, action=None, path_cost=0):\n",
    "        \"\"\"Create a search tree Node, derived from a parent by an action.\"\"\"\n",
    "        self.state = state\n",
    "        self.parent = parent\n",
    "        self.action = action\n",
    "        self.path_cost = path_cost\n",
    "        self.depth = 0\n",
    "        if parent:\n",
    "            self.depth = parent.depth + 1\n",
    "\n",
    "    def __repr__(self):\n",
    "        return \"<Node parent_action: {}, state: {},  depth: {}>\".format(self.action, self.state, self.depth)\n",
    "\n",
    "    def expand(self, problem):\n",
    "        \"\"\"List the nodes reachable in one step from this node.\"\"\"\n",
    "        return [self.child_node(problem, action)\n",
    "                for action in problem.actions(self.state)]\n",
    "\n",
    "    def child_node(self, problem, action):\n",
    "        \"\"\"[Figure 3.10]\"\"\"\n",
    "        next_state = problem.result(self.state, action)\n",
    "        next_node = Node(next_state, self, action,\n",
    "                    problem.path_cost(self.path_cost, self.state,\n",
    "                                      action, next_state))\n",
    "        return next_node\n",
    "    \n",
    "    def solution(self):\n",
    "        \"\"\"Return the sequence of actions to go from the root to this node.\"\"\"\n",
    "        return [node.action for node in self.path()[1:]]\n",
    "\n",
    "    def path(self):\n",
    "        \"\"\"Return a list of nodes forming the path from the root to this node.\"\"\"\n",
    "        node, path_back = self, []\n",
    "        while node:\n",
    "            path_back.append(node)\n",
    "            node = node.parent\n",
    "        return list(reversed(path_back))\n",
    "    \n",
    "    def getDepth(self):\n",
    "        return self.depth\n",
    "\n",
    "import math\n",
    "failState = Estado(-1,-1)\n",
    "failure = Node(failState, path_cost=math.inf) # Indicates an algorithm couldn't find a solution."
   ]
  },
  {
   "cell_type": "code",
   "execution_count": 104,
   "metadata": {},
   "outputs": [],
   "source": [
    "class Cym(Problem):\n",
    "    # (c,m) (0,1),(0,2),(1,0),(1,1),(2,0)\n",
    "    initial = Estado(3,3)\n",
    "    goal = Estado(0,0)\n",
    "    \n",
    "    def __init__(self):\n",
    "        Problem.__init__(self,self.initial,self.goal)\n",
    "\n",
    "    def actions(self, estado):\n",
    "        actions = []\n",
    "        if estado.geti()%2 == 0: # es par, es decir, va a restar\n",
    "            if estado.c >= 2:\n",
    "                actions = actions + [(1,0),(2,0)]\n",
    "                if estado.m >= 2:\n",
    "                    actions = actions + [(0,1),(0,2),(1,1)]\n",
    "                elif estado.m == 1:\n",
    "                    actions = actions + [(0,1),(1,1)]\n",
    "            elif estado.c == 1:\n",
    "                actions.append((1,0))\n",
    "                if estado.m >= 2:\n",
    "                    actions = actions + [(0,1),(0,2),(1,1)]\n",
    "                elif estado.m == 1:\n",
    "                    actions = actions + [(0,1),(1,1)]\n",
    "        else:\n",
    "            if 3-estado.c >= 2:\n",
    "                actions = actions + [(1,0),(2,0)]\n",
    "                if 3-estado.m >= 2:\n",
    "                    actions = actions + [(0,1),(0,2),(1,1)]\n",
    "                elif 3-estado.m == 1:\n",
    "                    actions = actions + [(0,1),(1,1)]\n",
    "            elif 3-estado.c == 1:\n",
    "                actions.append((1,0))\n",
    "                if 3-estado.m >= 2:\n",
    "                    actions = actions + [(0,1),(0,2),(1,1)]\n",
    "                elif 3-estado.m == 1:\n",
    "                    actions = actions + [(0,1),(1,1)]\n",
    "        return actions\n",
    "    \n",
    "    def result(self, state, action):\n",
    "        if state.geti() % 2 == 0: # es par, es decir, va a restar\n",
    "            nuevo = Estado(state.getc()-action[0], state.getm()-action[1], state.geti()+1)\n",
    "        else: # es impar, es decir, va a sumar\n",
    "            nuevo = Estado(state.getc()+action[0], state.getm()+action[1], state.geti()+1)\n",
    "        if nuevo.isValid():\n",
    "            return nuevo\n",
    "        else:\n",
    "            return failState\n",
    "        \n",
    "    def goal_test(self, state):\n",
    "        return state == self.goal"
   ]
  },
  {
   "cell_type": "code",
   "execution_count": 105,
   "metadata": {},
   "outputs": [],
   "source": [
    "from collections import deque\n",
    "\n",
    "FIFOQueue = deque\n",
    "\n",
    "def breadth_first_search(problem):\n",
    "    \"Search shallowest nodes in the search tree first.\"\n",
    "    node = Node(problem.initial)\n",
    "    if problem.goal_test(problem.initial):\n",
    "        return node\n",
    "    frontier = FIFOQueue([node])\n",
    "    reached = {problem.initial}\n",
    "    while frontier:\n",
    "        node = frontier.pop()\n",
    "        for child in node.expand(problem):\n",
    "            s = child.state\n",
    "            if problem.goal_test(s):\n",
    "                return child\n",
    "            if s not in reached:\n",
    "                reached.add(s)\n",
    "                frontier.appendleft(child)\n",
    "    return failure\n"
   ]
  },
  {
   "cell_type": "code",
   "execution_count": 106,
   "metadata": {},
   "outputs": [
    {
     "name": "stdout",
     "output_type": "stream",
     "text": [
      "Canivales: 3 Misioneros: 3\n",
      "Canivales: 0 Misioneros: 0\n"
     ]
    }
   ],
   "source": [
    "problema = Cym()\n",
    "print(problema.initial)\n",
    "print(problema.goal)\n"
   ]
  },
  {
   "cell_type": "code",
   "execution_count": 107,
   "metadata": {},
   "outputs": [],
   "source": [
    "bf = breadth_first_search(problema)"
   ]
  },
  {
   "cell_type": "code",
   "execution_count": 108,
   "metadata": {},
   "outputs": [
    {
     "data": {
      "text/plain": [
       "'[(2, 0), (1, 0), (2, 0), (1, 0), (0, 2), (1, 1), (0, 2), (1, 0), (2, 0), (1, 0), (2, 0)]'"
      ]
     },
     "execution_count": 108,
     "metadata": {},
     "output_type": "execute_result"
    }
   ],
   "source": [
    "repr(bf.solution())"
   ]
  },
  {
   "cell_type": "code",
   "execution_count": 109,
   "metadata": {},
   "outputs": [
    {
     "name": "stdout",
     "output_type": "stream",
     "text": [
      "<class '__main__.Estado'>\n",
      "Canivales: 2 Misioneros: 3\n",
      "<class '__main__.Estado'>\n",
      "Canivales: 1 Misioneros: 3\n",
      "<class '__main__.Estado'>\n",
      "Canivales: -1 Misioneros: -1\n",
      "<class '__main__.Estado'>\n",
      "Canivales: -1 Misioneros: -1\n",
      "<class '__main__.Estado'>\n",
      "Canivales: 2 Misioneros: 2\n"
     ]
    }
   ],
   "source": [
    "node = Node(Estado(3,3))\n",
    "for child in node.expand(problema):\n",
    "    s = child.state\n",
    "    print(type(s))\n",
    "    print(s)"
   ]
  },
  {
   "cell_type": "code",
   "execution_count": 110,
   "metadata": {},
   "outputs": [
    {
     "name": "stdout",
     "output_type": "stream",
     "text": [
      "<Node parent_action: None, state: Canivales: 3 Misioneros: 3,  depth: 0>\n",
      "<Node parent_action: (2, 0), state: Canivales: 1 Misioneros: 3,  depth: 1>\n",
      "<Node parent_action: (1, 0), state: Canivales: 2 Misioneros: 3,  depth: 2>\n",
      "<Node parent_action: (2, 0), state: Canivales: 0 Misioneros: 3,  depth: 3>\n",
      "<Node parent_action: (1, 0), state: Canivales: 1 Misioneros: 3,  depth: 4>\n",
      "<Node parent_action: (0, 2), state: Canivales: 1 Misioneros: 1,  depth: 5>\n",
      "<Node parent_action: (1, 1), state: Canivales: 2 Misioneros: 2,  depth: 6>\n",
      "<Node parent_action: (0, 2), state: Canivales: 2 Misioneros: 0,  depth: 7>\n",
      "<Node parent_action: (1, 0), state: Canivales: 3 Misioneros: 0,  depth: 8>\n",
      "<Node parent_action: (2, 0), state: Canivales: 1 Misioneros: 0,  depth: 9>\n",
      "<Node parent_action: (1, 0), state: Canivales: 2 Misioneros: 0,  depth: 10>\n",
      "<Node parent_action: (2, 0), state: Canivales: 0 Misioneros: 0,  depth: 11>\n"
     ]
    }
   ],
   "source": [
    "for a in bf.path():\n",
    "    print(a)"
   ]
  },
  {
   "cell_type": "code",
   "execution_count": null,
   "metadata": {},
   "outputs": [],
   "source": []
  }
 ],
 "metadata": {
  "kernelspec": {
   "display_name": "Python 3",
   "language": "python",
   "name": "python3"
  },
  "language_info": {
   "codemirror_mode": {
    "name": "ipython",
    "version": 3
   },
   "file_extension": ".py",
   "mimetype": "text/x-python",
   "name": "python",
   "nbconvert_exporter": "python",
   "pygments_lexer": "ipython3",
   "version": "3.7.3"
  }
 },
 "nbformat": 4,
 "nbformat_minor": 4
}
